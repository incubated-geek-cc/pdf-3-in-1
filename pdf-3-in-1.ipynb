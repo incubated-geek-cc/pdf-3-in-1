{
 "cells": [
  {
   "cell_type": "markdown",
   "metadata": {},
   "source": [
    "# Utility for <img src=\"img/pdf_icon.png\" width=\"24\" height=\"24\" /> PDF Files/Pages.\n",
    "In this notebook, we are trying to create an application which enables users to:\n",
    "* Merge <img src=\"img/merge.png\" width=\"24\" height=\"24\" />\n",
    "* Splice <img src=\"img/splice.png\" width=\"24\" height=\"24\" /> \n",
    "* Rotate Pages <img src=\"img/rotate.png\" width=\"24\" height=\"24\" /><br>\n",
    "of <img src=\"img/pdf_icon.png\" width=\"24\" height=\"24\" /> PDF documents."
   ]
  },
  {
   "cell_type": "markdown",
   "metadata": {},
   "source": [
    "<b>Note:</b> The main functionalities of this notebook are taken from the original author at https://github.com/metaist/pdfmerge where it was originally meant to be a <img src=\"img/cmd.png\" width=\"24\" height=\"24\" /> command-line utility. I have merely taken the same functionalities and altered its mode of input. All code snippets should be credited to the <a href='https://github.com/metaist' target='blank'>original author</a>."
   ]
  },
  {
   "cell_type": "markdown",
   "metadata": {},
   "source": [
    "<b>Running:</b> Python 3.6.7<br>\n",
    "<b>Using:</b> pip 20.2.3<br>\n",
    "<b>OS:</b> Windows 10"
   ]
  },
  {
   "cell_type": "markdown",
   "metadata": {},
   "source": [
    "### Importing/Installing required module(s)\n",
    "Most of the modules required are in-built so we shall import them in the next cell:"
   ]
  },
  {
   "cell_type": "code",
   "execution_count": null,
   "metadata": {},
   "outputs": [],
   "source": [
    "from glob import glob\n",
    "import os\n",
    "import re"
   ]
  },
  {
   "cell_type": "markdown",
   "metadata": {},
   "source": [
    "To create the respective functionalities, we can use a PDF toolkit `PyPDF2` for Python. We'll install the official library by shelling out to `bash` and running a `pip` command right here."
   ]
  },
  {
   "cell_type": "code",
   "execution_count": 2,
   "metadata": {},
   "outputs": [
    {
     "name": "stdout",
     "output_type": "stream",
     "text": [
      "Processing c:\\users\\xuema\\appdata\\local\\pip\\cache\\wheels\\97\\28\\4b\\142b7d8c98eeeb73534b9c5b6558ddd3bab3c2c8192aa7ab30\\pypdf2-1.26.0-py3-none-any.whl\n",
      "Installing collected packages: PyPDF2\n",
      "Successfully installed PyPDF2-1.26.0\n"
     ]
    }
   ],
   "source": [
    "!pip install PyPDF2"
   ]
  },
  {
   "cell_type": "markdown",
   "metadata": {},
   "source": [
    "Now we'll import the `PyPDF2` package we just installed and use it to create subsequent utility functions. Specifically, `PdfFileWriter`,`PdfFileReader` are required from this python package"
   ]
  },
  {
   "cell_type": "code",
   "execution_count": 3,
   "metadata": {},
   "outputs": [],
   "source": [
    "from PyPDF2 import PdfFileWriter, PdfFileReader"
   ]
  },
  {
   "cell_type": "markdown",
   "metadata": {},
   "source": [
    "### Specifications of:\n",
    "#### 1. Error Message Output\n",
    "In the scenario when an exception is triggered, specific messages shall be output by the programme to feedback us what was the actual error encountered."
   ]
  },
  {
   "cell_type": "code",
   "execution_count": 4,
   "metadata": {},
   "outputs": [],
   "source": [
    "ERROR_PATH = 'ERROR: path not found: {0}'\n",
    "ERROR_RULE = 'ERROR: invalid rule: {0}'\n",
    "ERROR_RANGE = 'ERROR: page {0} out of range [1-{1}]'\n",
    "ERROR_BOUNDS = 'ERROR: missing upper bound on range [{0}..]'"
   ]
  },
  {
   "cell_type": "markdown",
   "metadata": {},
   "source": [
    "#### 2. Required Inputs for Page Range Extraction/Rotation\n",
    "The following represents the syntax of the actual input by the programme to output the final PDF document eventually."
   ]
  },
  {
   "cell_type": "code",
   "execution_count": 5,
   "metadata": {},
   "outputs": [],
   "source": [
    "RULE_RANGE = '..'\n",
    "RULE_ROTATE = { \n",
    "                None: 0, \n",
    "                '>': 90, \n",
    "                'V': 180, \n",
    "                '<': 270 \n",
    "              }\n",
    "RULE_DEFAULT = RULE_RANGE"
   ]
  },
  {
   "cell_type": "markdown",
   "metadata": {},
   "source": [
    "The below specifications are regexes defined to read in every possible format by the programme to identify what are the specific rules stated to output the final PDF document."
   ]
  },
  {
   "cell_type": "code",
   "execution_count": 6,
   "metadata": {},
   "outputs": [],
   "source": [
    "RE_MATCH_TYPE = type(re.match('', ''))\n",
    "RE_HAS_RULE = re.compile(r'^(.*)\\[(.*)\\]$')\n",
    "RE_RULE = re.compile(r'^(-?\\d+)?(\\.\\.)?(-?\\d+)?([>V<])?$')"
   ]
  },
  {
   "cell_type": "markdown",
   "metadata": {},
   "source": [
    "#### Define function `rangify`\n",
    "Description: This function is used to extract out the stated range of pages of a PDF document (inclusive of upper limit and lower limit) and the maximum no. of pages to be extracted.<br>\n",
    "<table style='margin-left:0'>\n",
    "    <thead>\n",
    "        <tr>\n",
    "            <th colspan='3' style='text-align:left'>Args</th>\n",
    "        </tr>\n",
    "    </thead>\n",
    "    <tbody>\n",
    "        <tr>\n",
    "            <td style='text-align:left'><pre>rule</pre></td>\n",
    "            <td style='text-align:left'>(str, obj)</td>\n",
    "            <td>pages to extract or a regex matching the rule</td>\n",
    "        </tr>\n",
    "         <tr>\n",
    "            <td><pre>range_max</pre></td>\n",
    "            <td>(int)</td>\n",
    "            <td>maximum number of page</td>\n",
    "        </tr>\n",
    "    </tbody>\n",
    "</table>\n",
    "\n",
    "<table style='margin-left:0'>\n",
    "    <thead>\n",
    "        <tr>\n",
    "            <th colspan='3' style='text-align:left'>Output</th>\n",
    "        </tr>\n",
    "    </thead>\n",
    "    <tbody>\n",
    "        <tr>\n",
    "            <td style='text-align:left'>Returns</td>\n",
    "            <td>(list)</td>\n",
    "            <td>List of pages to extract.</td>\n",
    "        </tr>\n",
    "    </tbody>\n",
    "</table>"
   ]
  },
  {
   "cell_type": "code",
   "execution_count": 7,
   "metadata": {},
   "outputs": [],
   "source": [
    "def rangify(rule, range_max=None):\n",
    "    # pylint: disable=R0912\n",
    "    result, match = [], None\n",
    "    if isinstance(rule, str):\n",
    "        match = RE_RULE.search(rule)\n",
    "        assert match, ERROR_RULE.format(rule)\n",
    "    elif isinstance(rule, RE_MATCH_TYPE):\n",
    "        assert rule is not None, ERROR_RULE.format()\n",
    "        match = rule\n",
    "\n",
    "    beg, isrange, end, _ = match.groups()\n",
    "    isrange = (isrange == RULE_RANGE)\n",
    "\n",
    "    if not beg and not end:\n",
    "        assert range_max is not None, ERROR_BOUNDS.format(beg)\n",
    "        beg, isrange, end = 1, True, range_max\n",
    "\n",
    "    beg = (beg and int(beg)) or 1\n",
    "    end = (end and int(end))\n",
    "\n",
    "    if beg:\n",
    "        beg = int(beg)\n",
    "        if range_max and beg < 1:\n",
    "            beg += range_max + 1\n",
    "        elif range_max and beg > range_max:\n",
    "            beg = range_max\n",
    "\n",
    "    if end:\n",
    "        end = int(end)\n",
    "        if range_max and end < 1:\n",
    "            end += range_max + 1\n",
    "        elif range_max and end > range_max:\n",
    "            end = range_max\n",
    "    elif isrange:\n",
    "        assert range_max is not None, ERROR_BOUNDS.format(beg)\n",
    "        end = range_max\n",
    "\n",
    "    if isrange and end < beg:\n",
    "        result = sorted(range(end, beg + 1), reverse=True)\n",
    "    elif isrange:\n",
    "        result = range(beg, end + 1)\n",
    "    else:\n",
    "        result.append(beg)\n",
    "\n",
    "    return result"
   ]
  },
  {
   "cell_type": "markdown",
   "metadata": {},
   "source": [
    "#### Define Function `add` \n",
    "Description: To add one or more paths to a PdfFileWriter.<br>\n",
    "\n",
    "<table style='margin-left:0'>\n",
    "    <thead>\n",
    "        <tr>\n",
    "            <th colspan='3' style='text-align:left'>Args</th>\n",
    "        </tr>\n",
    "    </thead>\n",
    "    <tbody>\n",
    "        <tr>\n",
    "            <td style='text-align:left'><pre>path</pre></td>\n",
    "            <td style='text-align:left'>(str, list)</td>\n",
    "            <td>path or list of paths to merge</td>\n",
    "        </tr>\n",
    "        <tr>\n",
    "            <td><pre>password</pre></td>\n",
    "            <td>(str)</td>\n",
    "            <td>password for encrypted files</td>\n",
    "        </tr>\n",
    "        <tr>\n",
    "            <td><pre>writer</pre></td>\n",
    "            <td>(PdfFileWriter)</td>\n",
    "            <td>output writer to add pdf files</td>\n",
    "        </tr>\n",
    "        <tr>\n",
    "            <td><pre>rules</pre></td>\n",
    "            <td>(str)</td>\n",
    "            <td>pages and rotation rules</td>\n",
    "        </tr>\n",
    "    </tbody>\n",
    "</table>\n",
    "\n",
    "<table style='margin-left:0'>\n",
    "    <thead>\n",
    "        <tr>\n",
    "            <th colspan='3' style='text-align:left'>Output</th>\n",
    "        </tr>\n",
    "    </thead>\n",
    "    <tbody>\n",
    "        <tr>\n",
    "            <td style='text-align:left'>Returns</td>\n",
    "            <td>(PdfFileWriter)</td>\n",
    "            <td>The merged PDF is ready for output.</td>\n",
    "        </tr>\n",
    "    </tbody>\n",
    "</table>"
   ]
  },
  {
   "cell_type": "code",
   "execution_count": 8,
   "metadata": {},
   "outputs": [],
   "source": [
    "def add(path, password='', writer=None, rules=RULE_DEFAULT):\n",
    "    if writer is None:\n",
    "        writer = PdfFileWriter()\n",
    "\n",
    "    if isinstance(path, list):  # merge all the paths\n",
    "        for subpath in path:\n",
    "            writer = add(subpath, password, writer, rules)\n",
    "    else:\n",
    "        match = RE_HAS_RULE.search(path)\n",
    "        if match:\n",
    "            path, rules = match.groups()\n",
    "        rules = re.sub(r'\\s', '', rules)\n",
    "\n",
    "        if os.path.isdir(path):\n",
    "            path = os.path.join(path, '*.pdf')\n",
    "\n",
    "        if '*' in path:\n",
    "            writer = add(glob(path), password, writer, rules)\n",
    "        else:\n",
    "            assert os.path.isfile(path), ERROR_PATH.format(path)\n",
    "            reader = PdfFileReader(open(path, 'rb'))\n",
    "            if reader.isEncrypted:\n",
    "                reader.decrypt(password)\n",
    "\n",
    "            for rule in rules.split(','):\n",
    "                match = RE_RULE.search(rule)\n",
    "                assert match, ERROR_RULE.format(rule)\n",
    "                _, _, _, rotate = match.groups()\n",
    "                for page in rangify(match, reader.getNumPages()):\n",
    "                    writer.addPage(\n",
    "                        reader.getPage(page - 1).rotateClockwise(\n",
    "                            RULE_ROTATE[rotate]\n",
    "                        )\n",
    "                    )\n",
    "    return writer"
   ]
  },
  {
   "cell_type": "markdown",
   "metadata": {},
   "source": [
    "#### Define Function `merge`\n",
    "Description: Merge the paths into a single PDF.<br>\n",
    "<table style='margin-left:0'>\n",
    "    <thead>\n",
    "        <tr>\n",
    "            <th colspan='3' style='text-align:left'>Args</th>\n",
    "        </tr>\n",
    "    </thead>\n",
    "    <tbody>\n",
    "        <tr>\n",
    "            <td style='text-align:left'><pre>path</pre></td>\n",
    "            <td style='text-align:left'>(list)</td>\n",
    "            <td>path or list of paths to merge</td>\n",
    "        </tr>\n",
    "        <tr>\n",
    "            <td><pre>output</pre></td>\n",
    "            <td>(str)</td>\n",
    "            <td>output file name</td>\n",
    "        </tr>\n",
    "        <tr>\n",
    "            <td><pre>password</pre></td>\n",
    "            <td>(str)</td>\n",
    "            <td>password for encrypted files (default: '')</td>\n",
    "        </tr>\n",
    "    </tbody>\n",
    "</table>"
   ]
  },
  {
   "cell_type": "code",
   "execution_count": 9,
   "metadata": {},
   "outputs": [],
   "source": [
    "def merge(paths, output, password=''):\n",
    "    writer = add(paths, password)\n",
    "    with open(output, 'wb') as stream:\n",
    "        writer.write(stream)"
   ]
  },
  {
   "cell_type": "markdown",
   "metadata": {},
   "source": [
    "#### Input PDF Files for Processing"
   ]
  },
  {
   "cell_type": "markdown",
   "metadata": {},
   "source": [
    "Proceed to specify the list of pdf files (the filepaths) in the below list:"
   ]
  },
  {
   "cell_type": "code",
   "execution_count": 10,
   "metadata": {},
   "outputs": [],
   "source": [
    "pdf_files=[\n",
    "    'pdf-multi-pg.pdf',\n",
    "    '1.pdf',\n",
    "    '2.pdf'\n",
    "]"
   ]
  },
  {
   "cell_type": "code",
   "execution_count": 11,
   "metadata": {},
   "outputs": [],
   "source": [
    "from IPython.core.display import display, HTML"
   ]
  },
  {
   "cell_type": "code",
   "execution_count": 12,
   "metadata": {},
   "outputs": [],
   "source": [
    "rotation_options_table=''\n",
    "rotation_options_table+='<table style=\\'margin-left:0;border:0.5px solid #000\\'>'\n",
    "rotation_options_table+='<thead>'\n",
    "rotation_options_table+='<tr>'\n",
    "rotation_options_table+='<th colspan=\\'2\\' style=\\'text-align:left;border:0.5px solid #000\\'>Rotation Options</th>'\n",
    "rotation_options_table+='</tr>'\n",
    "rotation_options_table+='<tr>'\n",
    "rotation_options_table+='<th style=\\'text-align:left;border:0.5px solid #000\\'>Input</th>'\n",
    "rotation_options_table+='<th style=\\'text-align:left;border:0.5px solid #000\\'>Description</th>'\n",
    "rotation_options_table+='</tr>'\n",
    "rotation_options_table+='</thead>'\n",
    "rotation_options_table+='<tbody>'\n",
    "rotation_options_table+='<tr>'\n",
    "rotation_options_table+='<td style=\\'text-align:center;border:0.5px solid #000\\'>(blank)</td>'\n",
    "rotation_options_table+='<td style=\\'text-align:left;border:0.5px solid #000\\'>Blank defaults to None</td>'\n",
    "rotation_options_table+='</tr>'\n",
    "rotation_options_table+='<tr>'\n",
    "rotation_options_table+='<td style=\\'text-align:center;border:0.5px solid #000\\'><pre>></pre></td>'\n",
    "rotation_options_table+='<td style=\\'text-align:left;border:0.5px solid #000\\'>↱ Clockwise right 90°</td>'\n",
    "rotation_options_table+='</tr>'\n",
    "rotation_options_table+='<tr>'\n",
    "rotation_options_table+='<td style=\\'text-align:center;border:0.5px solid #000\\'><pre>V</pre></td>'\n",
    "rotation_options_table+='<td style=\\'text-align:left;border:0.5px solid #000\\'>↴ Inverse downwards 180°</td>'\n",
    "rotation_options_table+='</tr>'\n",
    "rotation_options_table+='<tr>'\n",
    "rotation_options_table+='<td style=\\'text-align:center;border:0.5px solid #000\\'><pre><</pre></td>'\n",
    "rotation_options_table+='<td style=\\'text-align:left;border:0.5px solid #000\\'>↲ Clockwise downwards 270°</td>'\n",
    "rotation_options_table+='</tr>'\n",
    "rotation_options_table+='</tbody>'    \n",
    "rotation_options_table+='</table>'"
   ]
  },
  {
   "cell_type": "code",
   "execution_count": 13,
   "metadata": {},
   "outputs": [
    {
     "data": {
      "text/html": [
       "<h3>Filename (1/3): pdf-multi-pg.pdf</h3>"
      ],
      "text/plain": [
       "<IPython.core.display.HTML object>"
      ]
     },
     "metadata": {},
     "output_type": "display_data"
    },
    {
     "data": {
      "text/html": [
       "<small>Total no. of pages in file: <b>10</b></small>"
      ],
      "text/plain": [
       "<IPython.core.display.HTML object>"
      ]
     },
     "metadata": {},
     "output_type": "display_data"
    },
    {
     "data": {
      "text/html": [
       "<h4>Part I: Specify range of PDF file to be extracted</h4>"
      ],
      "text/plain": [
       "<IPython.core.display.HTML object>"
      ]
     },
     "metadata": {},
     "output_type": "display_data"
    },
    {
     "data": {
      "text/html": [
       "<small>Note: If either range values are non-numerical or blank, the default shall be <u>all pages</ul></small>"
      ],
      "text/plain": [
       "<IPython.core.display.HTML object>"
      ]
     },
     "metadata": {},
     "output_type": "display_data"
    },
    {
     "name": "stdin",
     "output_type": "stream",
     "text": [
      "Input range (start page) of pdf-multi-pg.pdf 3\n",
      "Input range (end page) of pdf-multi-pg.pdf 5\n"
     ]
    },
    {
     "data": {
      "text/html": [
       "<hr>"
      ],
      "text/plain": [
       "<IPython.core.display.HTML object>"
      ]
     },
     "metadata": {},
     "output_type": "display_data"
    },
    {
     "data": {
      "text/html": [
       "<h4>Part II: Specify rotation option of PDF file</h4>"
      ],
      "text/plain": [
       "<IPython.core.display.HTML object>"
      ]
     },
     "metadata": {},
     "output_type": "display_data"
    },
    {
     "data": {
      "text/html": [
       "<table style='margin-left:0;border:0.5px solid #000'><thead><tr><th colspan='2' style='text-align:left;border:0.5px solid #000'>Rotation Options</th></tr><tr><th style='text-align:left;border:0.5px solid #000'>Input</th><th style='text-align:left;border:0.5px solid #000'>Description</th></tr></thead><tbody><tr><td style='text-align:center;border:0.5px solid #000'>(blank)</td><td style='text-align:left;border:0.5px solid #000'>Blank defaults to None</td></tr><tr><td style='text-align:center;border:0.5px solid #000'><pre>></pre></td><td style='text-align:left;border:0.5px solid #000'>↱ Clockwise right 90°</td></tr><tr><td style='text-align:center;border:0.5px solid #000'><pre>V</pre></td><td style='text-align:left;border:0.5px solid #000'>↴ Inverse downwards 180°</td></tr><tr><td style='text-align:center;border:0.5px solid #000'><pre><</pre></td><td style='text-align:left;border:0.5px solid #000'>↲ Clockwise downwards 270°</td></tr></tbody></table>"
      ],
      "text/plain": [
       "<IPython.core.display.HTML object>"
      ]
     },
     "metadata": {},
     "output_type": "display_data"
    },
    {
     "name": "stdin",
     "output_type": "stream",
     "text": [
      "Input rotation option: pdf-multi-pg.pdf \n"
     ]
    },
    {
     "name": "stdout",
     "output_type": "stream",
     "text": [
      "pdf-multi-pg.pdf[3..5]\n"
     ]
    },
    {
     "data": {
      "text/html": [
       "<hr>"
      ],
      "text/plain": [
       "<IPython.core.display.HTML object>"
      ]
     },
     "metadata": {},
     "output_type": "display_data"
    },
    {
     "data": {
      "text/html": [
       "<h3>Filename (2/3): 1.pdf</h3>"
      ],
      "text/plain": [
       "<IPython.core.display.HTML object>"
      ]
     },
     "metadata": {},
     "output_type": "display_data"
    },
    {
     "data": {
      "text/html": [
       "<small>Total no. of pages in file: <b>1</b></small>"
      ],
      "text/plain": [
       "<IPython.core.display.HTML object>"
      ]
     },
     "metadata": {},
     "output_type": "display_data"
    },
    {
     "data": {
      "text/html": [
       "<h4>Part I: Specify range of PDF file to be extracted</h4>"
      ],
      "text/plain": [
       "<IPython.core.display.HTML object>"
      ]
     },
     "metadata": {},
     "output_type": "display_data"
    },
    {
     "data": {
      "text/html": [
       "<small>Note: If either range values are non-numerical or blank, the default shall be <u>all pages</ul></small>"
      ],
      "text/plain": [
       "<IPython.core.display.HTML object>"
      ]
     },
     "metadata": {},
     "output_type": "display_data"
    },
    {
     "name": "stdin",
     "output_type": "stream",
     "text": [
      "Input range (start page) of 1.pdf \n"
     ]
    },
    {
     "data": {
      "text/html": [
       "<h4>Part II: Specify rotation option of PDF file</h4>"
      ],
      "text/plain": [
       "<IPython.core.display.HTML object>"
      ]
     },
     "metadata": {},
     "output_type": "display_data"
    },
    {
     "data": {
      "text/html": [
       "<table style='margin-left:0;border:0.5px solid #000'><thead><tr><th colspan='2' style='text-align:left;border:0.5px solid #000'>Rotation Options</th></tr><tr><th style='text-align:left;border:0.5px solid #000'>Input</th><th style='text-align:left;border:0.5px solid #000'>Description</th></tr></thead><tbody><tr><td style='text-align:center;border:0.5px solid #000'>(blank)</td><td style='text-align:left;border:0.5px solid #000'>Blank defaults to None</td></tr><tr><td style='text-align:center;border:0.5px solid #000'><pre>></pre></td><td style='text-align:left;border:0.5px solid #000'>↱ Clockwise right 90°</td></tr><tr><td style='text-align:center;border:0.5px solid #000'><pre>V</pre></td><td style='text-align:left;border:0.5px solid #000'>↴ Inverse downwards 180°</td></tr><tr><td style='text-align:center;border:0.5px solid #000'><pre><</pre></td><td style='text-align:left;border:0.5px solid #000'>↲ Clockwise downwards 270°</td></tr></tbody></table>"
      ],
      "text/plain": [
       "<IPython.core.display.HTML object>"
      ]
     },
     "metadata": {},
     "output_type": "display_data"
    },
    {
     "name": "stdin",
     "output_type": "stream",
     "text": [
      "Input rotation option: 1.pdf <\n"
     ]
    },
    {
     "name": "stdout",
     "output_type": "stream",
     "text": [
      "1.pdf[<]\n"
     ]
    },
    {
     "data": {
      "text/html": [
       "<hr>"
      ],
      "text/plain": [
       "<IPython.core.display.HTML object>"
      ]
     },
     "metadata": {},
     "output_type": "display_data"
    },
    {
     "data": {
      "text/html": [
       "<h3>Filename (3/3): 2.pdf</h3>"
      ],
      "text/plain": [
       "<IPython.core.display.HTML object>"
      ]
     },
     "metadata": {},
     "output_type": "display_data"
    },
    {
     "data": {
      "text/html": [
       "<small>Total no. of pages in file: <b>1</b></small>"
      ],
      "text/plain": [
       "<IPython.core.display.HTML object>"
      ]
     },
     "metadata": {},
     "output_type": "display_data"
    },
    {
     "data": {
      "text/html": [
       "<h4>Part I: Specify range of PDF file to be extracted</h4>"
      ],
      "text/plain": [
       "<IPython.core.display.HTML object>"
      ]
     },
     "metadata": {},
     "output_type": "display_data"
    },
    {
     "data": {
      "text/html": [
       "<small>Note: If either range values are non-numerical or blank, the default shall be <u>all pages</ul></small>"
      ],
      "text/plain": [
       "<IPython.core.display.HTML object>"
      ]
     },
     "metadata": {},
     "output_type": "display_data"
    },
    {
     "name": "stdin",
     "output_type": "stream",
     "text": [
      "Input range (start page) of 2.pdf >\n"
     ]
    },
    {
     "data": {
      "text/html": [
       "<h4>Part II: Specify rotation option of PDF file</h4>"
      ],
      "text/plain": [
       "<IPython.core.display.HTML object>"
      ]
     },
     "metadata": {},
     "output_type": "display_data"
    },
    {
     "data": {
      "text/html": [
       "<table style='margin-left:0;border:0.5px solid #000'><thead><tr><th colspan='2' style='text-align:left;border:0.5px solid #000'>Rotation Options</th></tr><tr><th style='text-align:left;border:0.5px solid #000'>Input</th><th style='text-align:left;border:0.5px solid #000'>Description</th></tr></thead><tbody><tr><td style='text-align:center;border:0.5px solid #000'>(blank)</td><td style='text-align:left;border:0.5px solid #000'>Blank defaults to None</td></tr><tr><td style='text-align:center;border:0.5px solid #000'><pre>></pre></td><td style='text-align:left;border:0.5px solid #000'>↱ Clockwise right 90°</td></tr><tr><td style='text-align:center;border:0.5px solid #000'><pre>V</pre></td><td style='text-align:left;border:0.5px solid #000'>↴ Inverse downwards 180°</td></tr><tr><td style='text-align:center;border:0.5px solid #000'><pre><</pre></td><td style='text-align:left;border:0.5px solid #000'>↲ Clockwise downwards 270°</td></tr></tbody></table>"
      ],
      "text/plain": [
       "<IPython.core.display.HTML object>"
      ]
     },
     "metadata": {},
     "output_type": "display_data"
    },
    {
     "name": "stdin",
     "output_type": "stream",
     "text": [
      "Input rotation option: 2.pdf >\n"
     ]
    },
    {
     "name": "stdout",
     "output_type": "stream",
     "text": [
      "2.pdf[>]\n"
     ]
    },
    {
     "data": {
      "text/html": [
       "<hr>"
      ],
      "text/plain": [
       "<IPython.core.display.HTML object>"
      ]
     },
     "metadata": {},
     "output_type": "display_data"
    },
    {
     "data": {
      "text/html": [
       "<h3>Specify output filename</h3>"
      ],
      "text/plain": [
       "<IPython.core.display.HTML object>"
      ]
     },
     "metadata": {},
     "output_type": "display_data"
    },
    {
     "data": {
      "text/html": [
       "<small>Note: If field is left blank, default shall be <u>output.pdf</u></small>"
      ],
      "text/plain": [
       "<IPython.core.display.HTML object>"
      ]
     },
     "metadata": {},
     "output_type": "display_data"
    },
    {
     "name": "stdin",
     "output_type": "stream",
     "text": [
      " \n"
     ]
    }
   ],
   "source": [
    "to_merge=[]\n",
    "#[START][..][END][ROTATE]\n",
    "counter=0\n",
    "for file in pdf_files:\n",
    "    counter+=1\n",
    "    options=file\n",
    "    no_of_pages = PdfFileReader(open(file,'rb')).getNumPages()\n",
    "    display(HTML('<h3>Filename (' + str(counter) + '/' + str(len(pdf_files)) + '): '+ file +'</h3>'))\n",
    "    display(HTML('<small>Total no. of pages in file: <b>' + str(no_of_pages) + '</b></small>'))\n",
    "    display(HTML('<h4>Part I: Specify range of PDF file to be extracted</h4>'))\n",
    "    display(HTML('<small>Note: If either range values are non-numerical or blank, the default shall be <u>all pages</ul></small>'))\n",
    "    try:\n",
    "        START=int(input('Input range (start page) of ' + file))\n",
    "        END = int(input('Input range (end page) of ' + file))\n",
    "        display(HTML('<hr>'))\n",
    "    except:\n",
    "        START=''\n",
    "        END=''\n",
    "    display(HTML('<h4>Part II: Specify rotation option of PDF file</h4>'))\n",
    "    display(HTML(rotation_options_table))\n",
    "    ROTATE = input('Input rotation option: ' + file)\n",
    "    ROTATE=ROTATE.strip().upper()\n",
    "    \n",
    "    page_range=[]\n",
    "    page_range.append(START)\n",
    "    page_range.append(END)\n",
    "    page_range=list(filter(lambda x: x != '', page_range))\n",
    "    if(len(page_range)==0):\n",
    "        page_range=''\n",
    "        if(ROTATE != ''):\n",
    "            options+='['+ROTATE+']'\n",
    "    else:\n",
    "        page_range=str(START)+'..'+str(END)\n",
    "        if(ROTATE == ''):\n",
    "            options+='['+page_range+']'\n",
    "        else:\n",
    "            options+='['+page_range+ROTATE+']'\n",
    "    \n",
    "    print(options)\n",
    "    to_merge.append(options)\n",
    "    display(HTML('<hr>'))\n",
    "    \n",
    "display(HTML('<h3>Specify output filename</h3>'))\n",
    "display(HTML('<small>Note: If field is left blank, default shall be <u>output.pdf</u></small>'))     \n",
    "output_filename=input()\n",
    "if(output_filename == ''):\n",
    "    output_filename='output.pdf'\n",
    "                    \n",
    "output_filename=output_filename.strip()"
   ]
  },
  {
   "cell_type": "code",
   "execution_count": 14,
   "metadata": {},
   "outputs": [
    {
     "data": {
      "text/html": [
       "<b>Output filename shall be:</b> output.pdf"
      ],
      "text/plain": [
       "<IPython.core.display.HTML object>"
      ]
     },
     "metadata": {},
     "output_type": "display_data"
    }
   ],
   "source": [
    "display(HTML('<b>Output filename shall be:</b> ' + output_filename))"
   ]
  },
  {
   "cell_type": "code",
   "execution_count": 15,
   "metadata": {},
   "outputs": [],
   "source": [
    "merge(to_merge, output_filename)"
   ]
  }
 ],
 "metadata": {
  "kernelspec": {
   "display_name": "Python 3",
   "language": "python",
   "name": "python3"
  },
  "language_info": {
   "codemirror_mode": {
    "name": "ipython",
    "version": 3
   },
   "file_extension": ".py",
   "mimetype": "text/x-python",
   "name": "python",
   "nbconvert_exporter": "python",
   "pygments_lexer": "ipython3",
   "version": "3.6.7"
  }
 },
 "nbformat": 4,
 "nbformat_minor": 4
}
