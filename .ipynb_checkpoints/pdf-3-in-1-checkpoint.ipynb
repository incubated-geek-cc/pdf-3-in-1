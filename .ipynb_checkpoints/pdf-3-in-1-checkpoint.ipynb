{
 "cells": [
  {
   "cell_type": "markdown",
   "metadata": {},
   "source": [
    "# Web Application ✱ Utility for PDF Files/Pages\n",
    "## Main Objective: Create a web application which enables users to:\n",
    "* Merge \n",
    "* Splice \n",
    "* Rotate Pages \n",
    "PDF documents."
   ]
  },
  {
   "cell_type": "markdown",
   "metadata": {},
   "source": [
    "<b>Note:</b> The code snippets of util functionalities: `rangify`, `add`, `merge` of this notebook are taken from the original author at https://github.com/metaist/pdfmerge where it was used as a command-line utility. This notebook leverages on these functionalities to run in a more user-friendly environment: providing users with a web app interface to perform the same tasks in this jupyter notebook."
   ]
  },
  {
   "cell_type": "markdown",
   "metadata": {},
   "source": [
    "<b>Running:</b> Python 3.7.9<br>\n",
    "<b>Using:</b> pip 20.2.4<br>\n",
    "<b>OS:</b> Windows 10\n",
    "\n",
    "<img src=\"preview.png\" height=\"150px\" />"
   ]
  },
  {
   "cell_type": "markdown",
   "metadata": {},
   "source": [
    "### 1. Importing/Installing required module(s)\n",
    "1. Import the required packages for PDF read/write: `PyPDF2`,`PdfFileWriter`,`PdfFileReader`\n",
    "2. Initialise util functions here to carry out merge, splice and page rotatation functions of PDF documents."
   ]
  },
  {
   "cell_type": "code",
   "execution_count": 1,
   "metadata": {},
   "outputs": [],
   "source": [
    "from glob import glob\n",
    "import os\n",
    "import re\n",
    "\n",
    "from PyPDF2 import PdfFileWriter, PdfFileReader"
   ]
  },
  {
   "cell_type": "markdown",
   "metadata": {},
   "source": [
    "#### 1.1 Specify Error Handing Rules"
   ]
  },
  {
   "cell_type": "code",
   "execution_count": 2,
   "metadata": {},
   "outputs": [],
   "source": [
    "ERROR_PATH = \"ERROR: path not found: {0}\"\n",
    "ERROR_RULE = \"ERROR: invalid rule: {0}\"\n",
    "ERROR_RANGE = \"ERROR: page {0} out of range [1-{1}]\"\n",
    "ERROR_BOUNDS = \"ERROR: missing upper bound on range [{0}..]\""
   ]
  },
  {
   "cell_type": "markdown",
   "metadata": {},
   "source": [
    "#### 1.2 Specify PDF document Handing Rules - Range and Page Rotation"
   ]
  },
  {
   "cell_type": "code",
   "execution_count": 3,
   "metadata": {},
   "outputs": [],
   "source": [
    "RULE_RANGE = \"..\"\n",
    "RULE_ROTATE = { \n",
    "                None: 0, \n",
    "                \">\": 90, \n",
    "                \"V\": 180, \n",
    "                \"<\": 270 \n",
    "              }\n",
    "RULE_DEFAULT = RULE_RANGE"
   ]
  },
  {
   "cell_type": "code",
   "execution_count": 4,
   "metadata": {},
   "outputs": [],
   "source": [
    "RE_MATCH_TYPE = type(re.match(\"\", \"\"))\n",
    "RE_HAS_RULE = re.compile(r\"^(.*)\\[(.*)\\]$\")\n",
    "RE_RULE = re.compile(r\"^(-?\\d+)?(\\.\\.)?(-?\\d+)?([>V<])?$\")"
   ]
  },
  {
   "cell_type": "code",
   "execution_count": 5,
   "metadata": {},
   "outputs": [],
   "source": [
    "# rule (str, obj): pages to extract or a regex matching the rule\n",
    "# range_max (int): maximum number of page\n",
    "# Returns (list): List of pages to extract\n",
    "def rangify(rule, range_max=None):\n",
    "    # pylint: disable=R0912\n",
    "    result, match = [], None\n",
    "    if isinstance(rule, str):\n",
    "        match = RE_RULE.search(rule)\n",
    "        assert match, ERROR_RULE.format(rule)\n",
    "    elif isinstance(rule, RE_MATCH_TYPE):\n",
    "        assert rule is not None, ERROR_RULE.format()\n",
    "        match = rule\n",
    "\n",
    "    beg, isrange, end, _ = match.groups()\n",
    "    isrange = (isrange == RULE_RANGE)\n",
    "\n",
    "    if not beg and not end:\n",
    "        assert range_max is not None, ERROR_BOUNDS.format(beg)\n",
    "        beg, isrange, end = 1, True, range_max\n",
    "\n",
    "    beg = (beg and int(beg)) or 1\n",
    "    end = (end and int(end))\n",
    "\n",
    "    if beg:\n",
    "        beg = int(beg)\n",
    "        if range_max and beg < 1:\n",
    "            beg += range_max + 1\n",
    "        elif range_max and beg > range_max:\n",
    "            beg = range_max\n",
    "\n",
    "    if end:\n",
    "        end = int(end)\n",
    "        if range_max and end < 1:\n",
    "            end += range_max + 1\n",
    "        elif range_max and end > range_max:\n",
    "            end = range_max\n",
    "    elif isrange:\n",
    "        assert range_max is not None, ERROR_BOUNDS.format(beg)\n",
    "        end = range_max\n",
    "\n",
    "    if isrange and end < beg:\n",
    "        result = sorted(range(end, beg + 1), reverse=True)\n",
    "    elif isrange:\n",
    "        result = range(beg, end + 1)\n",
    "    else:\n",
    "        result.append(beg)\n",
    "\n",
    "    return result"
   ]
  },
  {
   "cell_type": "code",
   "execution_count": 6,
   "metadata": {},
   "outputs": [],
   "source": [
    "# path (str, list): path or list of paths to merge\n",
    "# password (str): password for encrypted files\n",
    "# writer (PdfFileWriter): output writer to add pdf files\n",
    "# rules (str): pages and rotation rules\n",
    "# Returns: (PdfFileWriter): The merged PDF is ready for output.\n",
    "def add(path, password=\"\", writer=None, rules=RULE_DEFAULT):\n",
    "    if writer is None:\n",
    "        writer = PdfFileWriter()\n",
    "\n",
    "    if isinstance(path, list):  # merge all the paths\n",
    "        for subpath in path:\n",
    "            writer = add(subpath, password, writer, rules)\n",
    "    else:\n",
    "        match = RE_HAS_RULE.search(path)\n",
    "        if match:\n",
    "            path, rules = match.groups()\n",
    "        rules = re.sub(r\"\\s\", \"\", rules)\n",
    "\n",
    "        if os.path.isdir(path):\n",
    "            path = os.path.join(path, \"*.pdf\")\n",
    "\n",
    "        if \"*\" in path:\n",
    "            writer = add(glob(path), password, writer, rules)\n",
    "        else:\n",
    "            assert os.path.isfile(path), ERROR_PATH.format(path)\n",
    "            reader = PdfFileReader(open(path, \"rb\"))\n",
    "            if reader.isEncrypted:\n",
    "                reader.decrypt(password)\n",
    "\n",
    "            for rule in rules.split(\",\"):\n",
    "                match = RE_RULE.search(rule)\n",
    "                assert match, ERROR_RULE.format(rule)\n",
    "                _, _, _, rotate = match.groups()\n",
    "                for page in rangify(match, reader.getNumPages()):\n",
    "                    writer.addPage(\n",
    "                        reader.getPage(page - 1).rotateClockwise(\n",
    "                            RULE_ROTATE[rotate]\n",
    "                        )\n",
    "                    )\n",
    "    return writer"
   ]
  },
  {
   "cell_type": "code",
   "execution_count": 7,
   "metadata": {},
   "outputs": [],
   "source": [
    "# path (list): path or list of paths to merge\n",
    "# output (str): output file name\n",
    "# password (str): password for encrypted files (default: \"\")\n",
    "def merge(paths, output, password=\"\"):\n",
    "    writer = add(paths, password)\n",
    "    with open(output, \"wb\") as stream:\n",
    "        writer.write(stream)"
   ]
  },
  {
   "cell_type": "markdown",
   "metadata": {},
   "source": [
    "### 2. Intialise Web Application Here"
   ]
  },
  {
   "cell_type": "code",
   "execution_count": 8,
   "metadata": {},
   "outputs": [],
   "source": [
    "import requests \n",
    "\n",
    "from flask import Flask\n",
    "from flask import render_template\n",
    "from flask import request\n",
    "from flask import redirect\n",
    "\n",
    "from werkzeug.wrappers import Request, Response"
   ]
  },
  {
   "cell_type": "code",
   "execution_count": 9,
   "metadata": {},
   "outputs": [
    {
     "data": {
      "text/plain": [
       "'C:\\\\Users\\\\xuema\\\\Desktop\\\\GitHub_Repos\\\\pdf-3-in-1'"
      ]
     },
     "execution_count": 9,
     "metadata": {},
     "output_type": "execute_result"
    }
   ],
   "source": [
    "cwd=os.getcwd()\n",
    "cwd"
   ]
  },
  {
   "cell_type": "code",
   "execution_count": 10,
   "metadata": {},
   "outputs": [
    {
     "name": "stderr",
     "output_type": "stream",
     "text": [
      " * Running on http://localhost:9000/ (Press CTRL+C to quit)\n",
      "127.0.0.1 - - [01/Nov/2020 09:19:05] \"\u001b[37mGET / HTTP/1.1\u001b[0m\" 200 -\n",
      "127.0.0.1 - - [01/Nov/2020 09:19:18] \"\u001b[37mGET /shutdown HTTP/1.1\u001b[0m\" 200 -\n"
     ]
    }
   ],
   "source": [
    "hostname=\"localhost\"\n",
    "port=9000\n",
    "base_url=\"http://\"+hostname+\":\"+str(port)\n",
    "\n",
    "pdf_files=[]\n",
    "pdf_files_json=\"\"\n",
    "\n",
    "output=\"output.pdf\"  \n",
    "download_filename=\"/\".join([base_url,\"static\",\"uploads\",output])\n",
    "output_filename=\"\\\\\".join([cwd,\"static\",\"uploads\",output])\n",
    "        \n",
    "def shutdown_server():\n",
    "    func = request.environ.get(\"werkzeug.server.shutdown\")\n",
    "    if func is None:\n",
    "        raise RuntimeError(\"Not running with the Werkzeug Server\")\n",
    "    func()\n",
    "\n",
    "app = Flask(__name__)\n",
    "app.config[\"PDF_UPLOADS\"] = \"\\\\\".join([cwd,\"static\",\"uploads\"])\n",
    "\n",
    "# API to shutdown server\n",
    "@app.route(\"/shutdown\", methods=[\"GET\",\"POST\"])\n",
    "def shutdown():\n",
    "    shutdown_server()\n",
    "    return \"Server is shutting down...\"\n",
    "\n",
    "@app.route(\"/\")\n",
    "def index():\n",
    "    title=\"PDF 3-in-1\"\n",
    "    return render_template(\"public/index.html\", message=title, template_folder=\"templates\", static_folder=\"static\")\n",
    "\n",
    "@app.route(\"/upload-pdf\", methods=[\"GET\", \"POST\"])\n",
    "def upload_pdf():\n",
    "    if request.method == \"POST\":\n",
    "        if request.files:\n",
    "            pdf = request.files[\"pdf\"]\n",
    "            pdf.save(os.path.join(app.config[\"PDF_UPLOADS\"], pdf.filename))\n",
    "            pdf_filepath=\"\\\\\".join([cwd,\"static\",\"uploads\",pdf.filename])\n",
    "            \n",
    "            no_of_pages = PdfFileReader(open(pdf_filepath,\"rb\")).getNumPages()\n",
    "            pdf_jsonOb={\n",
    "              \"filename\": pdf.filename,\n",
    "              \"filepath\": pdf_filepath,\n",
    "              \"totalNoOfPages\": no_of_pages,\n",
    "              \"startPage\": 1,\n",
    "              \"endPage\": no_of_pages,\n",
    "              \"rotation\": \"\"\n",
    "            }\n",
    "            pdf_files.append(pdf_jsonOb)\n",
    "            pdf_files_json=str(pdf_files)\n",
    "            pdf_files_json=pdf_files_json.replace(\"'\",\"\\\"\")\n",
    "            \n",
    "            return redirect(request.base_url+\"#\"+pdf_files_json)\n",
    "    return render_template(\"public/upload_pdf.html\")\n",
    "\n",
    "@app.route(\"/process-pdf\", methods=[\"GET\", \"POST\"])\n",
    "def process_pdf():\n",
    "    if request.method == \"POST\":\n",
    "        pdf_files=request.form[\"pdf_files\"]\n",
    "        import json\n",
    "        pdf_files=json.loads(pdf_files)\n",
    "        \n",
    "        to_merge=[]\n",
    "        #[START][..][END][ROTATE]\n",
    "        for fileObj in pdf_files:\n",
    "            options=str(fileObj[\"filepath\"])\n",
    "            no_of_pages = int(fileObj[\"totalNoOfPages\"])\n",
    "            if(no_of_pages>1):\n",
    "                try:\n",
    "                    START=str(fileObj[\"startPage\"])\n",
    "                    END = str(fileObj[\"endPage\"])\n",
    "                except:\n",
    "                    START=\"\"\n",
    "                    END=\"\"\n",
    "\n",
    "            ROTATE=str(fileObj[\"rotation\"]).strip().upper()\n",
    "\n",
    "            page_range=[]\n",
    "            page_range.append(START)\n",
    "            page_range.append(END)\n",
    "            page_range=list(filter(lambda x: x != \"\", page_range))\n",
    "            if(len(page_range)==0):\n",
    "                page_range=\"\"\n",
    "                if(ROTATE != \"\"):\n",
    "                    options+=\"[\"+ROTATE+\"]\"\n",
    "            else:\n",
    "                page_range=str(START)+\"..\"+str(END)\n",
    "                if(ROTATE == \"\"):\n",
    "                    options+=\"[\"+page_range+\"]\"\n",
    "                else:\n",
    "                    options+=\"[\"+page_range+ROTATE+\"]\"\n",
    "\n",
    "            #print(options)\n",
    "            to_merge.append(options)\n",
    "        merge(to_merge, output_filename)\n",
    "        \n",
    "        list_of_files = os.listdir(app.config[\"PDF_UPLOADS\"])\n",
    "        for old_pdf_file in list_of_files:\n",
    "            old_pdf_filepath=\"\\\\\".join([app.config[\"PDF_UPLOADS\"],old_pdf_file])\n",
    "            if old_pdf_file != \"output.pdf\":\n",
    "                try:\n",
    "                    os.remove(old_pdf_filepath)\n",
    "                except:\n",
    "                    dummy=old_pdf_filepath\n",
    "        \n",
    "        return redirect(request.base_url)\n",
    "    \n",
    "    return \"Download merged pdf at: <a href='\"+download_filename+\"' download='\"+ output+\"' target='blank'>output.pdf</a>\"\n",
    "    \n",
    "def upload_pdf():\n",
    "    if request.method == \"POST\":\n",
    "        if request.files:\n",
    "            pdf = request.files[\"pdf\"]\n",
    "            pdf.save(os.path.join(app.config[\"PDF_UPLOADS\"], pdf.filename))\n",
    "            pdf_filepath=\"\\\\\".join([cwd,\"static\",\"uploads\",pdf.filename])\n",
    "            \n",
    "            no_of_pages = PdfFileReader(open(pdf_filepath,\"rb\")).getNumPages()\n",
    "            pdf_jsonOb={\n",
    "              \"filename\": pdf.filename,\n",
    "              \"filepath\": pdf_filepath,\n",
    "              \"totalNoOfPages\": no_of_pages,\n",
    "              \"startPage\": 1,\n",
    "              \"endPage\": no_of_pages,\n",
    "              \"rotation\": \"\"\n",
    "            }\n",
    "            pdf_files.append(pdf_jsonOb)\n",
    "            #print(\"Pdf uploaded at: \" + pdf_filepath)\n",
    "            pdf_files_json=str(pdf_files)\n",
    "            pdf_files_json=pdf_files_json.replace(\"'\",\"\\\"\")\n",
    "            \n",
    "            return redirect(request.base_url+\"#\"+pdf_files_json)\n",
    "    return render_template(\"public/upload_pdf.html\")\n",
    "\n",
    "if __name__ == \"__main__\":\n",
    "    from werkzeug.serving import run_simple\n",
    "    run_simple(hostname, port, app)"
   ]
  },
  {
   "cell_type": "markdown",
   "metadata": {},
   "source": [
    "<a href=\"http://localhost:9000/shutdown\" target=\"blank\">Quit Application</a>"
   ]
  }
 ],
 "metadata": {
  "kernelspec": {
   "display_name": "Python 3",
   "language": "python",
   "name": "python3"
  },
  "language_info": {
   "codemirror_mode": {
    "name": "ipython",
    "version": 3
   },
   "file_extension": ".py",
   "mimetype": "text/x-python",
   "name": "python",
   "nbconvert_exporter": "python",
   "pygments_lexer": "ipython3",
   "version": "3.7.9"
  }
 },
 "nbformat": 4,
 "nbformat_minor": 4
}
